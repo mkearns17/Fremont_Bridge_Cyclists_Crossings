{
 "cells": [
  {
   "attachments": {},
   "cell_type": "markdown",
   "id": "202864bc-2f51-4998-8157-16823e2fdfac",
   "metadata": {},
   "source": [
    "# Fremont Bridge Cyclists Crossings\n",
    "by Michael Kearns\n",
    "\n",
    "# Business Understanding\n",
    "Seattle is home to many cyclists who ride for both recreational or commuting purposes. Seattle has already developed extensive infrastructure for their residents that include designated walking/cycling paths and protected bike lines. Unique to Seattle geography is that North Seattle and Downtown are split by bodies of water that connect the Puget Sound to Lake Washington. This requires riders who travel from North Seattle to Downtown to cross a bridge that motor vehicles also use. I would like to build a model that can predict the number of cyclists that cross a bridge dependent on the daily weather. This project will specifically look at the Fremont Bridge, which has direct access to the South Lake Union and Downtown areas that host many major companies and business districts. The goal is this model could be used by the Seattle Department of Transportation to help improve or provide safer travel for cyclists across this bridge."
   ]
  },
  {
   "attachments": {},
   "cell_type": "markdown",
   "id": "7419f7a8-5612-4947-bcbd-bcb4a358abab",
   "metadata": {},
   "source": [
    "# Data Understanding\n",
    "Data for this project will be collected from multiple sources. First, the city of Seattle tracks the number of cyclists that cross the Fremont bridge in both the northbound and southbound directions. Second, historical weather data from the National Center for Environmental Information (NCEI) is collected that includes daily temperature, precipitation levels, and snow levels. The data will range between 2013-2024. \n",
    "## Data Preparation\n",
    "A key difference between the two datasets is the cyclist dataset has hourly recordings and the weather data is daily. Therefore, the cycling dataset will need to be converted to report daily numbers. All data considered will be numerical, and will have to be cleaned for possible cases of missing data or incorrectly recorded values."
   ]
  },
  {
   "cell_type": "code",
   "execution_count": 1,
   "id": "51c5ae49-c1a3-4a3c-a575-b6fd95f0e78b",
   "metadata": {},
   "outputs": [
    {
     "name": "stdout",
     "output_type": "stream",
     "text": [
      "<class 'pandas.core.frame.DataFrame'>\n",
      "RangeIndex: 107352 entries, 0 to 107351\n",
      "Data columns (total 4 columns):\n",
      " #   Column                                                              Non-Null Count   Dtype  \n",
      "---  ------                                                              --------------   -----  \n",
      " 0   Date                                                                107352 non-null  object \n",
      " 1   Fremont Bridge Sidewalks, south of N 34th St Total                  107324 non-null  float64\n",
      " 2   Fremont Bridge Sidewalks, south of N 34th St Cyclist West Sidewalk  107324 non-null  float64\n",
      " 3   Fremont Bridge Sidewalks, south of N 34th St Cyclist East Sidewalk  107324 non-null  float64\n",
      "dtypes: float64(3), object(1)\n",
      "memory usage: 3.3+ MB\n"
     ]
    }
   ],
   "source": [
    "import pandas as pd\n",
    "import numpy as np\n",
    "import matplotlib.pyplot as plt\n",
    "\n",
    "#import csv file\n",
    "bike = pd.read_csv('data/Fremont_Bridge_Bicycle_Counter_20250217.csv')\n",
    "\n",
    "#check dataframe info\n",
    "bike.info()"
   ]
  },
  {
   "cell_type": "code",
   "execution_count": 2,
   "id": "d7344c54-c646-4130-80db-1e40be6f1e25",
   "metadata": {},
   "outputs": [],
   "source": [
    "#Rename column names for simplicity\n",
    "bike.columns = ['Date-Hr','Total','WestSidewalk','EastSidewalk']"
   ]
  },
  {
   "cell_type": "code",
   "execution_count": 3,
   "id": "605897c7-9e9b-4794-afc8-74bd40c7e25f",
   "metadata": {},
   "outputs": [],
   "source": [
    "bike['Date'] = bike['Date-Hr'].str[:10]\n",
    "bike['Hr'] = bike['Date-Hr'].str[11:]"
   ]
  },
  {
   "cell_type": "code",
   "execution_count": 4,
   "id": "df8bfc42-f767-4090-ae93-21439f29b2b3",
   "metadata": {},
   "outputs": [],
   "source": [
    "#Convert Date to datetime format\n",
    "bike['Date'] = pd.to_datetime(bike['Date'])"
   ]
  },
  {
   "cell_type": "code",
   "execution_count": 5,
   "id": "bd2db8d6-4dfe-4c15-aeaf-f5bbcde5dfbd",
   "metadata": {},
   "outputs": [],
   "source": [
    "#Create new dataframe that sums daily crossing between 2013 and 2024\n",
    "bike_filtered = bike[bike['Date']>'2012-12-31']\n",
    "bike_daily = bike.groupby(bike_filtered['Date'])[['Total','WestSidewalk','EastSidewalk']].sum()"
   ]
  },
  {
   "cell_type": "code",
   "execution_count": 6,
   "id": "2d0ed844-21c7-478f-acd4-49860e2cce2f",
   "metadata": {},
   "outputs": [],
   "source": [
    "#import weather data\n",
    "weather = pd.read_csv('data/sea-tac_weather_2024.csv',header=1)"
   ]
  },
  {
   "cell_type": "code",
   "execution_count": 7,
   "id": "20696490-98c8-4eaa-8902-748e69c460d0",
   "metadata": {},
   "outputs": [],
   "source": [
    "#Convert Date to datetime format\n",
    "weather['Date'] = pd.to_datetime(weather['Date'])"
   ]
  },
  {
   "cell_type": "code",
   "execution_count": 8,
   "id": "be521487-b05d-4e3e-ab3b-feccd2025363",
   "metadata": {},
   "outputs": [],
   "source": [
    "#Filter weather data to match timeframe of bike data\n",
    "weather_filtered = weather[(weather['Date']>'2012-12-31')&(weather['Date']<'2025-01-01')]"
   ]
  },
  {
   "cell_type": "code",
   "execution_count": 9,
   "id": "c5d26021-d5dd-4546-ba6d-7445524f88dc",
   "metadata": {},
   "outputs": [
    {
     "name": "stdout",
     "output_type": "stream",
     "text": [
      "<class 'pandas.core.frame.DataFrame'>\n",
      "Index: 4383 entries, 23742 to 28124\n",
      "Data columns (total 7 columns):\n",
      " #   Column                     Non-Null Count  Dtype         \n",
      "---  ------                     --------------  -----         \n",
      " 0   Date                       4383 non-null   datetime64[ns]\n",
      " 1   TAVG (Degrees Fahrenheit)  4293 non-null   float64       \n",
      " 2   TMAX (Degrees Fahrenheit)  4383 non-null   float64       \n",
      " 3   TMIN (Degrees Fahrenheit)  4382 non-null   float64       \n",
      " 4   PRCP (Inches)              4379 non-null   float64       \n",
      " 5   SNOW (Inches)              4380 non-null   float64       \n",
      " 6   SNWD (Inches)              4380 non-null   float64       \n",
      "dtypes: datetime64[ns](1), float64(6)\n",
      "memory usage: 273.9 KB\n"
     ]
    }
   ],
   "source": [
    "weather_filtered.info()"
   ]
  },
  {
   "cell_type": "markdown",
   "id": "1487d5e2-a1d3-41ad-87b0-fcec43ae60a9",
   "metadata": {},
   "source": [
    "Remove missing data"
   ]
  },
  {
   "cell_type": "code",
   "execution_count": 10,
   "id": "3b3b08f4-1c22-4ef8-8f85-4eefafce02ab",
   "metadata": {},
   "outputs": [],
   "source": [
    "#simplify column names\n",
    "weather_filtered.columns = ['Date','TAVG','TMAX','TMIN','PRCP','SNOW','SNWD']"
   ]
  },
  {
   "cell_type": "code",
   "execution_count": 11,
   "id": "e83bcb18-5f27-42d4-a356-32959f485c5e",
   "metadata": {},
   "outputs": [
    {
     "name": "stdout",
     "output_type": "stream",
     "text": [
      "<class 'pandas.core.frame.DataFrame'>\n",
      "RangeIndex: 4286 entries, 0 to 4285\n",
      "Data columns (total 7 columns):\n",
      " #   Column  Non-Null Count  Dtype         \n",
      "---  ------  --------------  -----         \n",
      " 0   Date    4286 non-null   datetime64[ns]\n",
      " 1   TAVG    4286 non-null   float64       \n",
      " 2   TMAX    4286 non-null   float64       \n",
      " 3   TMIN    4286 non-null   float64       \n",
      " 4   PRCP    4286 non-null   float64       \n",
      " 5   SNOW    4286 non-null   float64       \n",
      " 6   SNWD    4286 non-null   float64       \n",
      "dtypes: datetime64[ns](1), float64(6)\n",
      "memory usage: 234.5 KB\n"
     ]
    }
   ],
   "source": [
    "#drop rows with missing data\n",
    "weather_filtered_clean = weather_filtered.dropna(axis = 0)\n",
    "#reset weather dataframe\n",
    "weather_filtered_clean.reset_index(inplace=True,drop = True)\n",
    "weather_filtered_clean.info()"
   ]
  },
  {
   "cell_type": "code",
   "execution_count": 12,
   "id": "0fa554eb-07ac-4735-8654-84c331697233",
   "metadata": {},
   "outputs": [
    {
     "data": {
      "text/html": [
       "<div>\n",
       "<style scoped>\n",
       "    .dataframe tbody tr th:only-of-type {\n",
       "        vertical-align: middle;\n",
       "    }\n",
       "\n",
       "    .dataframe tbody tr th {\n",
       "        vertical-align: top;\n",
       "    }\n",
       "\n",
       "    .dataframe thead th {\n",
       "        text-align: right;\n",
       "    }\n",
       "</style>\n",
       "<table border=\"1\" class=\"dataframe\">\n",
       "  <thead>\n",
       "    <tr style=\"text-align: right;\">\n",
       "      <th></th>\n",
       "      <th>Date</th>\n",
       "      <th>TAVG</th>\n",
       "      <th>TMAX</th>\n",
       "      <th>TMIN</th>\n",
       "      <th>PRCP</th>\n",
       "      <th>SNOW</th>\n",
       "      <th>SNWD</th>\n",
       "    </tr>\n",
       "  </thead>\n",
       "  <tbody>\n",
       "    <tr>\n",
       "      <th>0</th>\n",
       "      <td>2013-04-01</td>\n",
       "      <td>55.0</td>\n",
       "      <td>63.0</td>\n",
       "      <td>47.0</td>\n",
       "      <td>0.00</td>\n",
       "      <td>0.0</td>\n",
       "      <td>0.0</td>\n",
       "    </tr>\n",
       "    <tr>\n",
       "      <th>1</th>\n",
       "      <td>2013-04-02</td>\n",
       "      <td>53.0</td>\n",
       "      <td>57.0</td>\n",
       "      <td>48.0</td>\n",
       "      <td>0.00</td>\n",
       "      <td>0.0</td>\n",
       "      <td>0.0</td>\n",
       "    </tr>\n",
       "    <tr>\n",
       "      <th>2</th>\n",
       "      <td>2013-04-03</td>\n",
       "      <td>53.0</td>\n",
       "      <td>62.0</td>\n",
       "      <td>46.0</td>\n",
       "      <td>0.00</td>\n",
       "      <td>0.0</td>\n",
       "      <td>0.0</td>\n",
       "    </tr>\n",
       "    <tr>\n",
       "      <th>3</th>\n",
       "      <td>2013-04-04</td>\n",
       "      <td>54.0</td>\n",
       "      <td>58.0</td>\n",
       "      <td>50.0</td>\n",
       "      <td>0.33</td>\n",
       "      <td>0.0</td>\n",
       "      <td>0.0</td>\n",
       "    </tr>\n",
       "    <tr>\n",
       "      <th>4</th>\n",
       "      <td>2013-04-05</td>\n",
       "      <td>54.0</td>\n",
       "      <td>57.0</td>\n",
       "      <td>50.0</td>\n",
       "      <td>0.73</td>\n",
       "      <td>0.0</td>\n",
       "      <td>0.0</td>\n",
       "    </tr>\n",
       "  </tbody>\n",
       "</table>\n",
       "</div>"
      ],
      "text/plain": [
       "        Date  TAVG  TMAX  TMIN  PRCP  SNOW  SNWD\n",
       "0 2013-04-01  55.0  63.0  47.0  0.00   0.0   0.0\n",
       "1 2013-04-02  53.0  57.0  48.0  0.00   0.0   0.0\n",
       "2 2013-04-03  53.0  62.0  46.0  0.00   0.0   0.0\n",
       "3 2013-04-04  54.0  58.0  50.0  0.33   0.0   0.0\n",
       "4 2013-04-05  54.0  57.0  50.0  0.73   0.0   0.0"
      ]
     },
     "execution_count": 12,
     "metadata": {},
     "output_type": "execute_result"
    }
   ],
   "source": [
    "weather_filtered_clean.head()"
   ]
  },
  {
   "cell_type": "markdown",
   "id": "5f80e792-9365-43cc-ab50-f8196aedd61b",
   "metadata": {},
   "source": [
    "# Exploratory Data Analysis"
   ]
  },
  {
   "cell_type": "markdown",
   "id": "df6dc74b-db41-43ae-a657-5f15d9681453",
   "metadata": {},
   "source": [
    "# Modeling"
   ]
  },
  {
   "cell_type": "markdown",
   "id": "caf6e85b-0ca4-45ee-8381-1297cb767052",
   "metadata": {},
   "source": [
    "# Final Model"
   ]
  },
  {
   "cell_type": "markdown",
   "id": "0e7d959b-588d-4346-9fe3-d34e06707d24",
   "metadata": {},
   "source": [
    "# Conclusions\n",
    "\n",
    "## Limitations\n",
    "\n",
    "## Recommendations\n",
    "\n",
    "## Next Steps"
   ]
  }
 ],
 "metadata": {
  "kernelspec": {
   "display_name": "Python (my-learn-env)",
   "language": "python",
   "name": "learn-env"
  },
  "language_info": {
   "codemirror_mode": {
    "name": "ipython",
    "version": 3
   },
   "file_extension": ".py",
   "mimetype": "text/x-python",
   "name": "python",
   "nbconvert_exporter": "python",
   "pygments_lexer": "ipython3",
   "version": "3.8.5"
  }
 },
 "nbformat": 4,
 "nbformat_minor": 5
}
