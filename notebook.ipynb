{
 "cells": [
  {
   "attachments": {},
   "cell_type": "markdown",
   "id": "202864bc-2f51-4998-8157-16823e2fdfac",
   "metadata": {},
   "source": [
    "# Fremont Bridge Cyclists Crossings\n",
    "by Michael Kearns\n",
    "\n",
    "# Business Understanding\n",
    "Seattle is home to many cyclists who ride for both recreational or commuting purposes. Seattle has already developed extensive infrastructure for their residents that include designated walking/cycling paths and protected bike lines. Unique to Seattle geography is that North Seattle and Downtown are split by bodies of water that connect the Puget Sound to Lake Washington. This requires riders who travel from North Seattle to Downtown to cross a bridge that motor vehicles also use. I would like to build a model that can predict the number of cyclists that cross a bridge dependent on the daily weather. This project will specifically look at the Fremont Bridge, which has direct access to the South Lake Union and Downtown areas that host many major companies and business districts. The goal is this model could be used by the Seattle Department of Transportation to help improve or provide safer travel for cyclists across this bridge."
   ]
  },
  {
   "attachments": {},
   "cell_type": "markdown",
   "id": "7419f7a8-5612-4947-bcbd-bcb4a358abab",
   "metadata": {},
   "source": [
    "# Data Understanding\n",
    "Data for this project will be collected from multiple sources. First, the city of Seattle tracks the number of cyclists that cross the Fremont bridge in both the northbound and southbound directions. Second, historical weather data from the National Center for Environmental Information (NCEI) is collected that includes daily temperature, precipitation levels, and snow levels. The data will range between 2013-2024. \n",
    "## Data Preparation\n",
    "A key difference between the two datasets is the cyclist dataset has hourly recordings and the weather data is daily. Therefore, the cycling dataset will need to be converted to report daily numbers. All data considered will be numerical, and will have to be cleaned for possible cases of missing data or incorrectly recorded values."
   ]
  },
  {
   "cell_type": "markdown",
   "id": "5f80e792-9365-43cc-ab50-f8196aedd61b",
   "metadata": {},
   "source": [
    "# Exploratory Data Analysis"
   ]
  },
  {
   "cell_type": "markdown",
   "id": "df6dc74b-db41-43ae-a657-5f15d9681453",
   "metadata": {},
   "source": [
    "# Modeling"
   ]
  },
  {
   "cell_type": "markdown",
   "id": "caf6e85b-0ca4-45ee-8381-1297cb767052",
   "metadata": {},
   "source": [
    "# Final Model"
   ]
  },
  {
   "cell_type": "markdown",
   "id": "0e7d959b-588d-4346-9fe3-d34e06707d24",
   "metadata": {},
   "source": [
    "# Conclusions\n",
    "\n",
    "## Limitations\n",
    "\n",
    "## Recommendations\n",
    "\n",
    "## Next Steps"
   ]
  }
 ],
 "metadata": {
  "kernelspec": {
   "display_name": "Python (my-learn-env)",
   "language": "python",
   "name": "learn-env"
  },
  "language_info": {
   "codemirror_mode": {
    "name": "ipython",
    "version": 3
   },
   "file_extension": ".py",
   "mimetype": "text/x-python",
   "name": "python",
   "nbconvert_exporter": "python",
   "pygments_lexer": "ipython3",
   "version": "3.8.5"
  }
 },
 "nbformat": 4,
 "nbformat_minor": 5
}
